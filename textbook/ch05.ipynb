{
 "cells": [
  {
   "cell_type": "markdown",
   "metadata": {},
   "source": [
    "# 5 First-Order Methods"
   ]
  },
  {
   "cell_type": "markdown",
   "metadata": {},
   "source": [
    "## 5.1 Gradient Descent"
   ]
  },
  {
   "cell_type": "code",
   "execution_count": 1,
   "metadata": {},
   "outputs": [
    {
     "data": {
      "text/plain": [
       "step! (generic function with 1 method)"
      ]
     },
     "execution_count": 1,
     "metadata": {},
     "output_type": "execute_result"
    }
   ],
   "source": [
    "abstract type DescentMethod end\n",
    "struct GradientDescent <: DescentMethod\n",
    "    α\n",
    "end\n",
    "init!(M::GradientDescent, f, ∇f, x) = M\n",
    "function step!(M::GradientDescent, f, ∇f, x)\n",
    "    α, g = M.α, ∇f(x)\n",
    "    return x - α*g\n",
    "end"
   ]
  },
  {
   "cell_type": "markdown",
   "metadata": {},
   "source": [
    "## 5.2 Conjugate Gradient"
   ]
  },
  {
   "cell_type": "code",
   "execution_count": null,
   "metadata": {},
   "outputs": [],
   "source": [
    "mutable struct ConjugateGradientDescent <: DescentMethod\n",
    "    d\n",
    "    g\n",
    "end\n",
    "function init!(M::ConjugateGradientDescent, f, ∇f, x)\n",
    "    M.g = ∇f(x)\n",
    "    M.d = -M.g\n",
    "    return M\n",
    "end\n",
    "function step!(M::ConjugateGradientDescent, f, ∇f, x)\n",
    "    d, g = M.d, M.g\n",
    "    g′ = ∇f(x)\n",
    "    β = max(0, dot(g′, g′-g)/(g⋅g))\n",
    "    d′ = -g′ + β*d\n",
    "    x′ = line_search(f, x, d′)\n",
    "    M.d, M.g = d′, g′\n",
    "    return x′\n",
    "end"
   ]
  }
 ],
 "metadata": {
  "kernelspec": {
   "display_name": "Julia 1.4.2",
   "language": "julia",
   "name": "julia-1.4"
  },
  "language_info": {
   "file_extension": ".jl",
   "mimetype": "application/julia",
   "name": "julia",
   "version": "1.4.2"
  },
  "widgets": {
   "application/vnd.jupyter.widget-state+json": {
    "state": {},
    "version_major": 2,
    "version_minor": 0
   }
  }
 },
 "nbformat": 4,
 "nbformat_minor": 4
}
