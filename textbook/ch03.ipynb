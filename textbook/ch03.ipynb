{
 "cells": [
  {
   "cell_type": "markdown",
   "metadata": {},
   "source": [
    "# 3 Bracketing"
   ]
  },
  {
   "cell_type": "markdown",
   "metadata": {},
   "source": [
    "## 3.2 Finding an Initial Bracket"
   ]
  },
  {
   "cell_type": "code",
   "execution_count": 23,
   "metadata": {},
   "outputs": [
    {
     "data": {
      "text/plain": [
       "bracket_minimum (generic function with 2 methods)"
      ]
     },
     "execution_count": 23,
     "metadata": {},
     "output_type": "execute_result"
    }
   ],
   "source": [
    "function bracket_minimum(f, x=0; s=1e-2, k=2.0)\n",
    "    a, ya = x, f(x)\n",
    "    b, yb = a + s, f(a + s)\n",
    "    if yb > ya          # if going uphill\n",
    "        a, b = b, a     # swap\n",
    "        ya, yb = yb, ya\n",
    "        s = -s          # reverse direction\n",
    "    end\n",
    "    while true\n",
    "        c, yc = b + s, f(b + s)\n",
    "        if yc > yb\n",
    "            return a < c ? (a, c) : (c, a)\n",
    "        end\n",
    "        a, ya, b, yb = b, yb, c, yc\n",
    "        s *= k\n",
    "    end\n",
    "end"
   ]
  },
  {
   "cell_type": "code",
   "execution_count": null,
   "metadata": {},
   "outputs": [],
   "source": [
    "plots = Any[]\n",
    "\n",
    "for i in 1:length(as)\n",
    "    p = plot(f, 0:4, xlabel=(\"x\"), ylabel=(\"y\"), legend=false)\n",
    "    plot!(Shape([as[i], bs[i], bs[i], as[i]], [-5, -5, 10, 10]), alpha=0.5)\n",
    "    push!(plots, p)\n",
    "end\n",
    "plot(plots...)"
   ]
  },
  {
   "cell_type": "code",
   "execution_count": 24,
   "metadata": {},
   "outputs": [
    {
     "data": {
      "text/plain": [
       "(0.64, 2.56)"
      ]
     },
     "execution_count": 24,
     "metadata": {},
     "output_type": "execute_result"
    }
   ],
   "source": [
    "f(x) = -sin(x)\n",
    "bracket_minimum(f)"
   ]
  },
  {
   "cell_type": "markdown",
   "metadata": {},
   "source": [
    "## 3.3 Fibonacci Search"
   ]
  },
  {
   "cell_type": "code",
   "execution_count": 10,
   "metadata": {},
   "outputs": [
    {
     "data": {
      "text/plain": [
       "fibonacci_search (generic function with 1 method)"
      ]
     },
     "execution_count": 10,
     "metadata": {},
     "output_type": "execute_result"
    }
   ],
   "source": [
    "function fibonacci_search(f, a, b, n; ϵ=0.01)\n",
    "    s = (1-√5)/(1+√5)\n",
    "    ρ = 1 / (φ*(1-s^(n+1))/(1-s^n))\n",
    "    d = ρ*b + (1-ρ)*a\n",
    "    yd = f(d)\n",
    "    \n",
    "    \n",
    "    for i in 1 : n-1\n",
    "        if i == n-1\n",
    "            c = ϵ*a + (1-ϵ)*d\n",
    "        else\n",
    "            c = ρ*a + (1-ρ)*b\n",
    "        end\n",
    "        yc = f(c)\n",
    "        if yc < yd\n",
    "            b, d, yd = d, c, yc\n",
    "        else\n",
    "            a, b = b, c\n",
    "        end\n",
    "        ρ = 1 / (φ*(1-s^(n-i+1))/(1-s^(n-i)))\n",
    "    end\n",
    "    return a < b ? (a, b) : (b, a)\n",
    "end"
   ]
  },
  {
   "cell_type": "markdown",
   "metadata": {},
   "source": [
    "## 3.4 Golden Section Search"
   ]
  },
  {
   "cell_type": "code",
   "execution_count": 11,
   "metadata": {},
   "outputs": [
    {
     "data": {
      "text/plain": [
       "golden_section_search (generic function with 1 method)"
      ]
     },
     "execution_count": 11,
     "metadata": {},
     "output_type": "execute_result"
    }
   ],
   "source": [
    "function golden_section_search(f, a, b, n)\n",
    "    ρ = φ-1\n",
    "    d = ρ * b + (1 - ρ)*a\n",
    "    yd = f(d)\n",
    "    as = []\n",
    "    bs = []\n",
    "    for i = 1 : n-1\n",
    "        c = ρ*a + (1 - ρ)*b\n",
    "        yc = f(c)\n",
    "        if yc < yd\n",
    "            b, d, yd = d, c, yc\n",
    "        else\n",
    "            a, b = b, c\n",
    "        end\n",
    "    end\n",
    "    return a < b ? (a, b) : (b, a)\n",
    "end"
   ]
  }
 ],
 "metadata": {
  "kernelspec": {
   "display_name": "Julia 1.4.2",
   "language": "julia",
   "name": "julia-1.4"
  },
  "language_info": {
   "file_extension": ".jl",
   "mimetype": "application/julia",
   "name": "julia",
   "version": "1.4.2"
  },
  "widgets": {
   "application/vnd.jupyter.widget-state+json": {
    "state": {},
    "version_major": 2,
    "version_minor": 0
   }
  }
 },
 "nbformat": 4,
 "nbformat_minor": 4
}
