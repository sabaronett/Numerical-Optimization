{
 "cells": [
  {
   "cell_type": "markdown",
   "metadata": {},
   "source": [
    "# 6 Second-Order Methods"
   ]
  },
  {
   "cell_type": "markdown",
   "metadata": {},
   "source": [
    "## 6.1 Newton's Method"
   ]
  },
  {
   "cell_type": "code",
   "execution_count": null,
   "metadata": {},
   "outputs": [],
   "source": [
    "function newtons_method(∇f, H, x, ϵ, k_max)\n",
    "    k, Δ = 1, fill(Inf, length(x))\n",
    "    while norm(Δ) > ϵ && k ≤ k_max\n",
    "        Δ = H(x) \\ ∇f(x)\n",
    "        x -= Δ\n",
    "        k += 1\n",
    "    end\n",
    "    return x\n",
    "end"
   ]
  },
  {
   "cell_type": "markdown",
   "metadata": {},
   "source": [
    "## 6.2 Secant Method"
   ]
  },
  {
   "cell_type": "code",
   "execution_count": null,
   "metadata": {},
   "outputs": [],
   "source": [
    "function secant_method(f′, x0, x1, ϵ)\n",
    "    g0 = f′(x0)\n",
    "    Δ = Inf\n",
    "    while abs(Δ) > ϵ\n",
    "        g1 = f′(x1)\n",
    "        Δ = (x1 - x0)/(g1 - g0)*g1\n",
    "        x0, x1, g0 = x1, x1 - Δ, g1\n",
    "    end\n",
    "    return x1\n",
    "end"
   ]
  },
  {
   "cell_type": "markdown",
   "metadata": {},
   "source": [
    "## 6.3 Quasi-Newton Methods"
   ]
  },
  {
   "cell_type": "code",
   "execution_count": null,
   "metadata": {},
   "outputs": [],
   "source": [
    "mutable struct DFP <: DescentMethod\n",
    "    Q\n",
    "end\n",
    "function init!(M::DFP, f, ∇f, x)\n",
    "    m = length(x)\n",
    "    M.Q = Matrix(1.0I, m, m)\n",
    "    return M\n",
    "end\n",
    "function step!(M::DFP, f, ∇f, x)\n",
    "    Q, g = M.Q, ∇f(x)\n",
    "    x′ = line_search(f, x, -Q*g)\n",
    "    g′ = ∇f(x′)\n",
    "    δ = x′ - x\n",
    "    γ = g′ - g\n",
    "    Q[:] = Q - Q*γ*γ'*Q/(γ'*Q*γ) + δ*δ'/(δ'*γ)\n",
    "    return x′\n",
    "end"
   ]
  },
  {
   "cell_type": "code",
   "execution_count": null,
   "metadata": {},
   "outputs": [],
   "source": [
    "mutable struct BFGS <: DescentMethod\n",
    "    Q\n",
    "end\n",
    "function init!(M::BFGS, f, ∇f, x)\n",
    "    m = length(x)\n",
    "    M.Q = Matrix(1.0I, m, m)\n",
    "    return M\n",
    "end\n",
    "function step!(M::BFGS, f, ∇f, x)\n",
    "    Q, g = M.Q, ∇f(x)\n",
    "    x′ = line_search(f, x, -Q*g)\n",
    "    g′ = ∇f(x′)\n",
    "    δ = x′ - x\n",
    "    γ = g′ - g\n",
    "    Q[:] = Q - (δ*γ'*Q + Q*γ*δ')/(δ'*γ) +\n",
    "               (1 + (γ'*Q*γ)/(δ'*γ))[1]*(δ*δ')/(δ'*γ)\n",
    "    return x′\n",
    "end"
   ]
  },
  {
   "cell_type": "code",
   "execution_count": null,
   "metadata": {},
   "outputs": [],
   "source": [
    "mutable struct LimitedMemoryBFGS <: DescentMethod\n",
    "    m\n",
    "    δs\n",
    "    γs\n",
    "    qs\n",
    "end\n",
    "function init!(M::LimitedMemoryBFGS, f, ∇f, x)\n",
    "    M.δs = []\n",
    "    M.γs = []\n",
    "    M.qs = []\n",
    "    return M\n",
    "end\n",
    "function step!(M::LimitedMemoryBFGS, f, ∇f, x)\n",
    "    δs, γs, qs, g = M.δs, M.γs, M.qs, ∇f(x)\n",
    "    m = length(δs)\n",
    "    if m > 0\n",
    "        q = g\n",
    "        for i in m : -1 : 1\n",
    "            qs[i] = copy(q)\n",
    "            q -= (δs[i]⋅q)/(γs[i]⋅δs[i])*γs[i]\n",
    "        end\n",
    "        z = (γs[m] .* δs[m] .* q) / (γs[m]⋅γs[m])\n",
    "        for i in 1 : m\n",
    "            z += δs[i]*(δs[i]⋅qs[i] - γs[i]⋅z)/(γs[i]⋅δs[i])\n",
    "        end\n",
    "        x′ = line_search(f, x, -z)\n",
    "    else\n",
    "        x′ = line_search(f, x, -g)\n",
    "    end\n",
    "    g′ = ∇f(x′)\n",
    "    push!(δs, x′ - x); push!(γs, g′ - g)\n",
    "    push!(qs, zeros(length(x)))\n",
    "    while length(δs) > M.m\n",
    "        popfirst!(δs); popfirst!(γs); popfirst!(qs)\n",
    "    end\n",
    "    return x′\n",
    "end"
   ]
  }
 ],
 "metadata": {
  "kernelspec": {
   "display_name": "Julia 1.4.2",
   "language": "julia",
   "name": "julia-1.4"
  },
  "language_info": {
   "file_extension": ".jl",
   "mimetype": "application/julia",
   "name": "julia",
   "version": "1.4.2"
  },
  "widgets": {
   "application/vnd.jupyter.widget-state+json": {
    "state": {},
    "version_major": 2,
    "version_minor": 0
   }
  }
 },
 "nbformat": 4,
 "nbformat_minor": 4
}
