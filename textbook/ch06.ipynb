{
 "cells": [
  {
   "cell_type": "markdown",
   "metadata": {},
   "source": [
    "# 6 Second-Order Methods"
   ]
  },
  {
   "cell_type": "markdown",
   "metadata": {},
   "source": [
    "## 6.1 Newton's Method"
   ]
  },
  {
   "cell_type": "code",
   "execution_count": null,
   "metadata": {},
   "outputs": [],
   "source": [
    "function newtons_method(∇f, H, x, ϵ, k_max)\n",
    "    k, Δ = 1, fill(Inf, length(x))\n",
    "    while norm(Δ) > ϵ && k ≤ k_max\n",
    "        Δ = H(x) \\ ∇f(x)\n",
    "        x -= Δ\n",
    "        k += 1\n",
    "    end\n",
    "    return x\n",
    "end"
   ]
  },
  {
   "cell_type": "markdown",
   "metadata": {},
   "source": [
    "## 6.2 Secant Method"
   ]
  },
  {
   "cell_type": "code",
   "execution_count": null,
   "metadata": {},
   "outputs": [],
   "source": [
    "function secant_method(f′, x0, x1, ϵ)\n",
    "    g0 = f′(x0)\n",
    "    Δ = Inf\n",
    "    while abs(Δ) > ϵ\n",
    "        g1 = f′(x1)\n",
    "        Δ = (x1 - x0)/(g1 - g0)*g1\n",
    "        x0, x1, g0 = x1, x1 - Δ, g1\n",
    "    end\n",
    "    return x1\n",
    "end"
   ]
  }
 ],
 "metadata": {
  "kernelspec": {
   "display_name": "Julia 1.4.2",
   "language": "julia",
   "name": "julia-1.4"
  },
  "language_info": {
   "file_extension": ".jl",
   "mimetype": "application/julia",
   "name": "julia",
   "version": "1.4.2"
  },
  "widgets": {
   "application/vnd.jupyter.widget-state+json": {
    "state": {},
    "version_major": 2,
    "version_minor": 0
   }
  }
 },
 "nbformat": 4,
 "nbformat_minor": 4
}
