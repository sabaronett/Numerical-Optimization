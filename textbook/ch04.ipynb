{
 "cells": [
  {
   "cell_type": "markdown",
   "metadata": {},
   "source": [
    "# 4 Local Descent"
   ]
  },
  {
   "cell_type": "markdown",
   "metadata": {},
   "source": [
    "## 4.2 Line Search"
   ]
  },
  {
   "cell_type": "code",
   "execution_count": 1,
   "metadata": {},
   "outputs": [
    {
     "data": {
      "text/plain": [
       "line_search (generic function with 1 method)"
      ]
     },
     "execution_count": 1,
     "metadata": {},
     "output_type": "execute_result"
    }
   ],
   "source": [
    "function line_search(f, x, d)\n",
    "    objective = α -> f(x + α*d)\n",
    "    a, b = bracket_minimum(objective)\n",
    "    α = minimize(objective, a, b)\n",
    "    return x + α*d\n",
    "end"
   ]
  },
  {
   "cell_type": "markdown",
   "metadata": {},
   "source": [
    "## 4.3 Approximate Line Search"
   ]
  },
  {
   "cell_type": "code",
   "execution_count": 2,
   "metadata": {},
   "outputs": [
    {
     "data": {
      "text/plain": [
       "backtracking_line_search (generic function with 1 method)"
      ]
     },
     "execution_count": 2,
     "metadata": {},
     "output_type": "execute_result"
    }
   ],
   "source": [
    "function backtracking_line_search(f, ∇f, x, d, α; p=0.5, β=1e-4)\n",
    "    y, g = f(x), ∇f(x)\n",
    "    while f(x + α*d) > y + β*α*(g⋅d)\n",
    "        α *= p\n",
    "    end\n",
    "    α\n",
    "end"
   ]
  },
  {
   "cell_type": "code",
   "execution_count": 3,
   "metadata": {},
   "outputs": [
    {
     "data": {
      "text/plain": [
       "strong_backtracking (generic function with 1 method)"
      ]
     },
     "execution_count": 3,
     "metadata": {},
     "output_type": "execute_result"
    }
   ],
   "source": [
    "function strong_backtracking(f, ∇, x, d; α=1, β=1e-4, σ=0.1)\n",
    "    y0, g0, y_prev, α_prev = f(x), ∇(x)⋅d, NaN, 0\n",
    "    αlo, αhi = NaN, NaN\n",
    "    \n",
    "    # bracket phase\n",
    "    while true\n",
    "        y = f(x + α*d)\n",
    "        if y > y0 + β*α*g0 || (!isnan(y_prev) && y ≥ y_prev)\n",
    "            αlo, αhi = α_prev, α\n",
    "            break\n",
    "        end\n",
    "        g = ∇(x + α*d)⋅d\n",
    "        if abs(g) ≤ -σ*g0\n",
    "            return α\n",
    "        elseif g ≥ 0\n",
    "            αlo, αhi = α, α_prev\n",
    "            break\n",
    "        end\n",
    "        y_prev, α_prev, α = y, α, 2α\n",
    "    end\n",
    "    \n",
    "    # zoom phase\n",
    "    ylo = f(x + αlo*d)\n",
    "    while true\n",
    "        α = (αlo + αhi)/2\n",
    "        y = f(x + α*d)\n",
    "        if y > y0 + β*α*g0 || y ≥ ylo\n",
    "            αhi = α\n",
    "        else\n",
    "            g = ∇(x + α*d)⋅d\n",
    "            if abs(g) ≤ -σ*g0\n",
    "                return α\n",
    "            elseif g*(αhi - αlo) ≥ 0\n",
    "                αhi = αlo\n",
    "            end\n",
    "            αlo = α\n",
    "        end\n",
    "    end\n",
    "end"
   ]
  },
  {
   "cell_type": "markdown",
   "metadata": {},
   "source": [
    "## 4.4 Trust Region Methods"
   ]
  },
  {
   "cell_type": "code",
   "execution_count": 7,
   "metadata": {},
   "outputs": [
    {
     "data": {
      "text/plain": [
       "solve_trust_region_subproblem (generic function with 1 method)"
      ]
     },
     "execution_count": 7,
     "metadata": {},
     "output_type": "execute_result"
    }
   ],
   "source": [
    "function trust_region_descent(f, ∇f, H, x, k_max;\n",
    "    η1=0.25, η2=0.5, γ1=0.5, γ2=2.0, δ=1.0)\n",
    "    y = f(x)\n",
    "    for k in 1 : k_max\n",
    "        x′, y′ = solve_trust_region_subproblem(∇f, H, x, δ)\n",
    "        r = (y - f(x′)) / (y - y′)\n",
    "        if r < η1\n",
    "            δ *= γ1\n",
    "        else\n",
    "            x, y = x′, y′\n",
    "            if r > η2\n",
    "                δ *= γ2\n",
    "            end\n",
    "        end\n",
    "    end\n",
    "    return x\n",
    "end\n",
    "\n",
    "using Convex\n",
    "function solve_trust_region_subproblem(∇f, H, x0, δ)\n",
    "    x = Variable(length(x0))\n",
    "    p = minimize(∇f(x0)⋅(x-x0) + quadform(x-x0, H(x0))/2)\n",
    "    p.constraints += norm(x-x0) <= δ\n",
    "    solve!(p)\n",
    "    return (x.value, p.optval)\n",
    "end"
   ]
  }
 ],
 "metadata": {
  "kernelspec": {
   "display_name": "Julia 1.4.2",
   "language": "julia",
   "name": "julia-1.4"
  },
  "language_info": {
   "file_extension": ".jl",
   "mimetype": "application/julia",
   "name": "julia",
   "version": "1.4.2"
  },
  "widgets": {
   "application/vnd.jupyter.widget-state+json": {
    "state": {},
    "version_major": 2,
    "version_minor": 0
   }
  }
 },
 "nbformat": 4,
 "nbformat_minor": 4
}
